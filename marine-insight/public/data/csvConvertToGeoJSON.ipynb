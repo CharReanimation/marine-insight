{
 "cells": [
  {
   "cell_type": "markdown",
   "id": "ff05cbe9",
   "metadata": {},
   "source": [
    "# Convert CSV to GeoJSON"
   ]
  },
  {
   "cell_type": "markdown",
   "id": "3502d50d",
   "metadata": {},
   "source": [
    "## Import"
   ]
  },
  {
   "cell_type": "code",
   "execution_count": 2,
   "id": "d7583d7e",
   "metadata": {},
   "outputs": [],
   "source": [
    "import pandas as pd\n",
    "import geojson\n",
    "from geojson import Feature, Point, FeatureCollection"
   ]
  },
  {
   "cell_type": "markdown",
   "id": "561c2f0f",
   "metadata": {},
   "source": [
    "## Process CSV"
   ]
  },
  {
   "cell_type": "code",
   "execution_count": null,
   "id": "e6562410",
   "metadata": {},
   "outputs": [],
   "source": [
    "# Read File\n",
    "fileName = \"placentia_chemistry_clusters\" # File Name placentia_chemistry_clusters\n",
    "saveLocation = \"./GEO/\" + fileName + \".geojson\" # Save Location\n",
    "df = pd.read_csv(\"./CSV/\" + fileName + \".csv\") # Read CSV\n",
    "\n",
    "features = []\n",
    "for _, row in df.iterrows():\n",
    "    point = Point((row['longitude'], row['latitude']))\n",
    "    props = {\"cluster\": int(row['cluster'])}\n",
    "    features.append(Feature(geometry=point, properties=props))\n",
    "\n",
    "geojson_obj = FeatureCollection(features)\n",
    "\n",
    "# Save To File\n",
    "with open(saveLocation, \"w\") as f:\n",
    "    geojson.dump(geojson_obj, f)"
   ]
  }
 ],
 "metadata": {
  "kernelspec": {
   "display_name": "Python 3",
   "language": "python",
   "name": "python3"
  },
  "language_info": {
   "codemirror_mode": {
    "name": "ipython",
    "version": 3
   },
   "file_extension": ".py",
   "mimetype": "text/x-python",
   "name": "python",
   "nbconvert_exporter": "python",
   "pygments_lexer": "ipython3",
   "version": "3.12.3"
  }
 },
 "nbformat": 4,
 "nbformat_minor": 5
}
